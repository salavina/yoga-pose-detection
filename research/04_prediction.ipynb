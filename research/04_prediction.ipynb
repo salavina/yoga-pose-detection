{
 "cells": [
  {
   "cell_type": "code",
   "execution_count": 6,
   "metadata": {},
   "outputs": [],
   "source": [
    "import os\n",
    "os.chdir('../')"
   ]
  },
  {
   "cell_type": "code",
   "execution_count": null,
   "metadata": {},
   "outputs": [],
   "source": [
    "from pathlib import Path\n",
    "import torch\n",
    "from PIL import ImageFile, Image\n",
    "from torchvision.transforms import Compose, ToTensor, Normalize, \\\n",
    "Resize, CenterCrop\n",
    "import numpy as np"
   ]
  },
  {
   "cell_type": "code",
   "execution_count": 19,
   "metadata": {},
   "outputs": [],
   "source": [
    "class PredictionPipeline:\n",
    "    def __init__(self, base_model_path=None, trained_model_dict=None):\n",
    "        self.base_model_path = base_model_path if base_model_path else Path('artifacts/prepare_base_model/resnet_updated_base_model.pth')\n",
    "        self.trained_model_dict = trained_model_dict if trained_model_dict else Path('artifacts/training/resnet_model.pth')\n",
    "        self.model = self.load_model()\n",
    "        self.load_checkpoint()\n",
    "        self.device = 'cuda' if torch.cuda.is_available() else 'cpu'\n",
    "        # self.device = 'cpu'\n",
    "        self.model.to(self.device)\n",
    "    \n",
    "    \n",
    "    def load_model(self):\n",
    "        return torch.load(self.base_model_path)\n",
    "    \n",
    "    def load_checkpoint(self):\n",
    "        checkpoint = torch.load(self.trained_model_dict)\n",
    "        self.model.load_state_dict(checkpoint[\"model_state_dict\"])\n",
    "        self.model.train() # always use train for resuming traning\n",
    "    \n",
    "    \n",
    "    def _preprocess_image(self, filename):\n",
    "        # Load the image and apply the transformation\n",
    "        ImageFile.LOAD_TRUNCATED_IMAGES = True\n",
    "        image = Image.open(filename)\n",
    "        normalizer = Normalize(mean=[0.485, 0.456, 0.406], std=[0.229,0.224,0.225])\n",
    "        \n",
    "        composer = Compose([Resize(256), CenterCrop(224), ToTensor(), normalizer])\n",
    "        \n",
    "        image = composer(image).unsqueeze(0)  # Add a batch dimension\n",
    "        return image\n",
    "    \n",
    "    \n",
    "    def predict(self, filename):\n",
    "        self.load_checkpoint()\n",
    "        self.model.eval()\n",
    "        preprocess_image = self._preprocess_image(filename)\n",
    "        x_tensor = torch.as_tensor(preprocess_image).float()\n",
    "        y_hat_tensor = self.model(x_tensor.to(self.device))\n",
    "        \n",
    "        # set it back to the train mode\n",
    "        self.model.train()\n",
    "        \n",
    "        labels = {0: 'downdog', 1: 'goddess', 2: 'plank', 3: 'tree', 4: 'warrior2'}\n",
    "        \n",
    "        return labels[np.argmax(y_hat_tensor.detach().cpu().numpy())]\n",
    "    "
   ]
  },
  {
   "cell_type": "code",
   "execution_count": 20,
   "metadata": {},
   "outputs": [
    {
     "name": "stdout",
     "output_type": "stream",
     "text": [
      "downdog\n"
     ]
    }
   ],
   "source": [
    "# inferencing\n",
    "try:\n",
    "    training_inference = PredictionPipeline()\n",
    "    c = training_inference.predict('artifacts/data_ingestion/yoga-poses-dataset/DATASET/TEST/downdog/00000025.jpg')\n",
    "    print(c)\n",
    "\n",
    "except Exception as e:\n",
    "    raise e"
   ]
  }
 ],
 "metadata": {
  "kernelspec": {
   "display_name": "yoga",
   "language": "python",
   "name": "python3"
  },
  "language_info": {
   "codemirror_mode": {
    "name": "ipython",
    "version": 3
   },
   "file_extension": ".py",
   "mimetype": "text/x-python",
   "name": "python",
   "nbconvert_exporter": "python",
   "pygments_lexer": "ipython3",
   "version": "3.8.10"
  }
 },
 "nbformat": 4,
 "nbformat_minor": 2
}
